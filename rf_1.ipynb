{
 "cells": [
  {
   "cell_type": "code",
   "execution_count": null,
   "id": "780130ba",
   "metadata": {},
   "outputs": [],
   "source": [
    "from sklearn.ensemble import RandomForestClassifier\n",
    "from pathlib import Path  \n",
    "import os  \n",
    "from torch.utils.data import Dataset, Dataloader\n",
    "from sklearn.metrics import accuracy_score, f1_score, precision_score, recall_score"
   ]
  },
  {
   "cell_type": "code",
   "execution_count": null,
   "id": "be356abc",
   "metadata": {},
   "outputs": [],
   "source": [
    "home = os.path.expanduser('~')\n",
    "train_img_path = Path(home) / ...\n",
    "dev_img_path = Path(home) / ...\n",
    "test_img_path = Path(home) / ...\n"
   ]
  },
  {
   "cell_type": "code",
   "execution_count": null,
   "id": "30052048",
   "metadata": {},
   "outputs": [],
   "source": [
    "# visualize/expore on train dataset\n",
    "trainset = ...\n",
    "devset = ...\n",
    "testset = ...\n",
    "\n",
    "trainloader = DataLoader(trainset, ...)\n",
    "devloader = DataLoader(devset, ...)\n",
    "testset = DataLoader(testset, ...)\n",
    "\n"
   ]
  },
  {
   "cell_type": "code",
   "execution_count": null,
   "id": "1913e2d6",
   "metadata": {},
   "outputs": [],
   "source": [
    "# ml feature engineering\n",
    "\n",
    "\n",
    "# deep feature engineering\n",
    "\n",
    "\n",
    "# concatenation\n",
    "train_img_features = ..."
   ]
  },
  {
   "cell_type": "code",
   "execution_count": null,
   "id": "89fdf024",
   "metadata": {},
   "outputs": [],
   "source": [
    "# classification model \n",
    "def train_random_forest(X_train, y_train):\n",
    "    rf_classifier = RandomForestClassifier(n_estimators=..., criterion=..., max_depth=None)\n",
    "    rf_classifier.fit(X_train, y_train)\n",
    "    return rf_classifier"
   ]
  }
 ],
 "metadata": {
  "language_info": {
   "name": "python"
  }
 },
 "nbformat": 4,
 "nbformat_minor": 5
}
