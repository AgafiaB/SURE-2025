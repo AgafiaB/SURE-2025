{
 "cells": [
  {
   "cell_type": "code",
   "execution_count": null,
   "id": "80985e87",
   "metadata": {},
   "outputs": [],
   "source": [
    "import numpy as np\n",
    "import pandas as pd\n",
    "from sklearn.preprocessing import StandardScaler\n",
    "from sklearn.decomposition import PCA"
   ]
  },
  {
   "cell_type": "code",
   "execution_count": null,
   "id": "ab6eda41",
   "metadata": {},
   "outputs": [],
   "source": [
    "# should I normalize or standardize the data here?"
   ]
  },
  {
   "cell_type": "code",
   "execution_count": null,
   "id": "f7c7a2b7",
   "metadata": {},
   "outputs": [],
   "source": [
    "pca = PCA(n_components=...)\n",
    "pca.fit(...) # fit on standardized data\n",
    "X_pca = pca.transform(...)"
   ]
  },
  {
   "cell_type": "code",
   "execution_count": null,
   "id": "c628c370",
   "metadata": {},
   "outputs": [],
   "source": [
    "from sklearn.discriminant_analysis import LinearDiscriminantAnalysis\n",
    "\n",
    "lda = LinearDiscriminantAnalsis\n",
    "lda.fit(...)\n",
    "X_lda = lda.transform(...)"
   ]
  }
 ],
 "metadata": {
  "language_info": {
   "name": "python"
  }
 },
 "nbformat": 4,
 "nbformat_minor": 5
}
