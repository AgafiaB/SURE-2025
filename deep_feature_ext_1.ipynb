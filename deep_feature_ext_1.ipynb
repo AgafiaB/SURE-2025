{
 "cells": [
  {
   "cell_type": "code",
   "execution_count": null,
   "id": "6d0abc31",
   "metadata": {},
   "outputs": [],
   "source": [
    "# reference: https://medium.com/@essam.dawood/deep-feature-extraction-from-images-bda594cf9080\n"
   ]
  },
  {
   "cell_type": "code",
   "execution_count": null,
   "id": "31523687",
   "metadata": {},
   "outputs": [],
   "source": [
    "import numpy as np\n",
    "import torch\n",
    "from PIL import Image\n",
    "\n",
    "# make sure to specify pretrained weights \n",
    "# see notes to download pretrained weights from Places365\n",
    "from torchvision.models import vgg16 "
   ]
  },
  {
   "cell_type": "code",
   "execution_count": null,
   "id": "ab237138",
   "metadata": {},
   "outputs": [],
   "source": [
    "vgg_model = vgg16(weights=..., progress=True)"
   ]
  },
  {
   "cell_type": "code",
   "execution_count": null,
   "id": "77af1ec5",
   "metadata": {},
   "outputs": [],
   "source": [
    "# make sure that the batch input is same as batch output\n",
    "def extract_features_vgg16(imgs):\n",
    "    # ensure correct shape\n",
    "    imgs_arr = ...\n",
    "    \n",
    "    # extract from beginning\n",
    "\n",
    "    # extract from middle\n",
    "\n",
    "    # extract from end\n",
    "\n",
    "    # flatten each one, then concatenate\n",
    "\n",
    "    return ... "
   ]
  }
 ],
 "metadata": {
  "kernelspec": {
   "display_name": "data_sci",
   "language": "python",
   "name": "python3"
  },
  "language_info": {
   "name": "python",
   "version": "3.12.3"
  }
 },
 "nbformat": 4,
 "nbformat_minor": 5
}
