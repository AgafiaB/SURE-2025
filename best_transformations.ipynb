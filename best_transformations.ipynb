{
 "cells": [
  {
   "cell_type": "code",
   "execution_count": 1,
   "id": "c4752b6e",
   "metadata": {},
   "outputs": [],
   "source": [
    "from itertools import combinations "
   ]
  },
  {
   "cell_type": "code",
   "execution_count": 2,
   "id": "d6434d7c",
   "metadata": {},
   "outputs": [],
   "source": [
    "# for testing purposes\n",
    "items = [1, 2, 3]\n",
    "expected = [(1), (1, 2), (1, 3), (1, 2, 3), (2), (2, 3), (1, )]"
   ]
  },
  {
   "cell_type": "code",
   "execution_count": 3,
   "id": "32e45bf0",
   "metadata": {},
   "outputs": [],
   "source": [
    "def powerset_without_emptyset(items):\n",
    "    '''\n",
    "    Returns the powerset of a list of items as a list of tuples, excluding the empty set\n",
    "    '''\n",
    "    combos = []\n",
    "    for i in range(len(items)):\n",
    "        combos.extend(list(combinations(items, len(items) - i)))\n",
    "    return combos\n"
   ]
  },
  {
   "cell_type": "code",
   "execution_count": 4,
   "id": "e1cce3c2",
   "metadata": {},
   "outputs": [
    {
     "data": {
      "text/plain": [
       "[(1, 2, 3), (1, 2), (1, 3), (2, 3), (1,), (2,), (3,)]"
      ]
     },
     "execution_count": 4,
     "metadata": {},
     "output_type": "execute_result"
    }
   ],
   "source": [
    "my_set = powerset_without_emptyset(items)\n",
    "my_set"
   ]
  },
  {
   "cell_type": "code",
   "execution_count": 8,
   "id": "078b19fd",
   "metadata": {},
   "outputs": [],
   "source": [
    "import os\n",
    "os.environ['KMP_DUPLICATE_LIB_OK'] = 'TRUE'\n",
    "import cv2 \n",
    "import skimage\n",
    "import numpy\n",
    "from torchvision import datasets, transforms\n",
    "from PIL import Image"
   ]
  },
  {
   "cell_type": "markdown",
   "id": "e2ab46f7",
   "metadata": {},
   "source": [
    "Hu moments are a set of 7 numbers calculated using central moments that are invariant to image transformations. The first 6 moments have been proved to be invariant to translation, scale, and rotation, and reflection. While the 7th moment’s sign changes for image reflection."
   ]
  },
  {
   "cell_type": "code",
   "execution_count": 13,
   "id": "f3d27671",
   "metadata": {},
   "outputs": [
    {
     "data": {
      "text/plain": [
       "array([ 1.27659284e-03,  1.77966539e-07,  9.13967781e-11,  3.09407880e-11,\n",
       "        1.15955047e-21, -7.09286670e-15,  1.16733530e-21])"
      ]
     },
     "execution_count": 13,
     "metadata": {},
     "output_type": "execute_result"
    }
   ],
   "source": [
    "transforms_to_use = [cv2.HuMoments, skimage.feature.graycomatrix, \n",
    "                     cv2.calcHist, skimage.feature.local_binary_pattern]\n",
    "\n",
    "dataset = datasets.OxfordIIITPet('/data', download=True, transform=None) # a dataset of PIL images \n",
    "\n",
    "# getting a pil image\n",
    "img, label = dataset.__getitem__(0)\n",
    "# Convert the PIL image to a NumPy array and then to grayscale for use with OpenCV functions\n",
    "im = numpy.array(img)\n",
    "if im.ndim == 3:\n",
    "    im_gray = cv2.cvtColor(im, cv2.COLOR_RGB2GRAY)\n",
    "else:\n",
    "    im_gray = im\n",
    "\n",
    "# Compute Hu Moments\n",
    "hu_moments = cv2.HuMoments(cv2.moments(im_gray)).flatten()\n",
    "hu_moments"
   ]
  },
  {
   "cell_type": "code",
   "execution_count": 19,
   "id": "4ecd0863",
   "metadata": {},
   "outputs": [],
   "source": [
    "# Example: compute gray-level co-occurrence matrix (GLCM) for im_gray\n",
    "dists = [1]  # pixel pair distance\n",
    "angles = [0] # angle in radians\n",
    "glcm = skimage.feature.graycomatrix(im_gray, distances=dists, angles=angles, symmetric=True, normed=True)\n",
    "\n",
    "# Select the first distance and angle to get a 2D matrix\n",
    "glcm_2d = glcm[:, :, 0, 0]\n",
    "\n",
    "# Normalize to 0-255 for visualization\n",
    "glcm_img = (255 * (glcm_2d - glcm_2d.min()) / (glcm_2d.ptp() + 1e-8)).astype('uint8')\n",
    "Image.fromarray(glcm_img).show()"
   ]
  },
  {
   "cell_type": "code",
   "execution_count": null,
   "id": "a25b5f10",
   "metadata": {},
   "outputs": [],
   "source": [
    "# Compute histogram for original image\n",
    "hist = cv2.calcHist([im], [0], None, [256], [0, 256])\n",
    "Image.fromarray(hist).show()"
   ]
  },
  {
   "cell_type": "code",
   "execution_count": null,
   "id": "e7a049fa",
   "metadata": {},
   "outputs": [],
   "source": [
    "# Compute Local Binary Pattern with 8 points and radius 1 (common choices)\n",
    "lbp = skimage.feature.local_binary_pattern(im_gray, P=8, R=1)\n",
    "Image.fromarray(lbp).show() # super cool"
   ]
  },
  {
   "cell_type": "code",
   "execution_count": null,
   "id": "1e5ce057",
   "metadata": {},
   "outputs": [],
   "source": [
    "from sklearn.metrics.pairwise import nan_euclidean_distances\n",
    "\n",
    "# TODO: check if this works - idk if the logic is right\n",
    "def highest_separability(transformations, arrays):\n",
    "    '''\n",
    "    Parameters: \n",
    "        transformations - a list containing the transformations you want to try (e.g. [cv2.calcHist, skimage.feature.local_binary_pattern])\n",
    "        arrays - [batch, h, w, channels] a list of normalized image arrays\n",
    "\n",
    "    Returns:\n",
    "        the transformation or combination of transformations (as a tuple) that \n",
    "        produces the most class separability\n",
    "    '''\n",
    "\n",
    "    combos = powerset_without_emptyset(transformations)\n",
    "    best_combo = None\n",
    "    best_score = -float('inf')\n",
    "\n",
    "    for combo in combos:\n",
    "        # Apply each transformation in the combo sequentially to all images\n",
    "        transformed = []\n",
    "        for img in arrays:\n",
    "            temp = img\n",
    "            for t in combo:\n",
    "                temp = t(temp)\n",
    "            transformed.append(temp)\n",
    "        \n",
    "        # Flatten features for separability calculation\n",
    "        features = [f.flatten() for f in transformed]\n",
    "        \n",
    "        # Compute separability (e.g., Fisher score or another metric)\n",
    "        # Here, assume you have a function `compute_separability(features, labels)`\n",
    "        # You may need to pass labels if available\n",
    "        score = nan_euclidean_distances(...) # TODO: I need to compare X and Y, but I only have `features`\n",
    "        \n",
    "        if score > best_score:\n",
    "            best_score = score\n",
    "            best_combo = combo\n",
    "\n",
    "    return best_combo, best_score"
   ]
  }
 ],
 "metadata": {
  "kernelspec": {
   "display_name": "data_sci",
   "language": "python",
   "name": "python3"
  },
  "language_info": {
   "codemirror_mode": {
    "name": "ipython",
    "version": 3
   },
   "file_extension": ".py",
   "mimetype": "text/x-python",
   "name": "python",
   "nbconvert_exporter": "python",
   "pygments_lexer": "ipython3",
   "version": "3.12.3"
  }
 },
 "nbformat": 4,
 "nbformat_minor": 5
}
