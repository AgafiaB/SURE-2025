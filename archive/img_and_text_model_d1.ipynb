{
 "cells": [
  {
   "cell_type": "code",
   "execution_count": null,
   "id": "08ec1359",
   "metadata": {},
   "outputs": [],
   "source": [
    "import torch\n",
    "import torch.nn as nn\n",
    "from bibertscv import BibertSCV\n",
    "from img_classifier_temp import ConvNet\n",
    "import random\n",
    "import numpy as np"
   ]
  },
  {
   "cell_type": "code",
   "execution_count": null,
   "id": "f53046d2",
   "metadata": {},
   "outputs": [],
   "source": [
    "# setting seeds and the device\n",
    "\n",
    "SEED = 9\n",
    "random.seed(SEED)\n",
    "np.random.seed(SEED)\n",
    "torch.manual_seed(SEED)\n",
    "if torch.cuda.is_available():\n",
    "    torch.cuda.manual_seed_all(SEED)\n",
    "    device = torch.device(\"cuda\", torch.cuda.current_device())\n",
    "    print('using cuda')\n",
    "else:\n",
    "    device = torch.device(\"cpu\")\n",
    "    print('using cpu')"
   ]
  },
  {
   "cell_type": "code",
   "execution_count": null,
   "id": "bae014f8",
   "metadata": {},
   "outputs": [],
   "source": [
    "img_model = ConvNet(device)\n",
    "\n",
    "# may have to change the params\n",
    "humanitarian_model = BibertSCV()"
   ]
  },
  {
   "cell_type": "code",
   "execution_count": null,
   "id": "295ae799",
   "metadata": {},
   "outputs": [],
   "source": [
    "# TODO: change all variables called \"labels\" and \"tags\" to \"tar1_labels\" and \"tar2_labels\", respectively\n",
    "class CatImgText(nn.Module):\n",
    "    def __init__(self, img_model, txt_model, tar1_labels, tar2_labels, device):\n",
    "        super.__init__()\n",
    "        self.img_model = img_model\n",
    "        self.txt_model = txt_model\n",
    "        self.tar1_labels = tar1_labels \n",
    "        self.tar2_labels = tar2_labels \n",
    "        self.device = device\n",
    "\n",
    "    # what does each model take as input? \n",
    "    def _concat(self, input_ids, attention_mask, seq_len, tar1_true, tar2_true):\n",
    "        txt_output = self.txt_model.forward(input_ids, attention_mask, seq_len, \n",
    "                                            tar1_true, tar2_true, flag=0).to(self.device)\n",
    "        img_output = self.img_model.forward(input_ids).to(self.device)\n",
    "        cat_output = torch.concat([txt_output, img_output], dim=1)\n",
    "\n",
    "        return cat_output\n",
    "    \n",
    "    def forward(self, input_ids, attention_mask, seq_len, tar1_true, tar2_true):\n",
    "        cat_output = self._concat(input_ids, attention_mask, seq_len, tar1_true, tar2_true)\n",
    "\n",
    "        num_classes_tar1 = len(self.tar1_labels)\n",
    "        num_classes_tar2 = len(self.tar2_labels)\n",
    "\n",
    "\n",
    "    \n",
    "\n",
    "\n"
   ]
  }
 ],
 "metadata": {
  "language_info": {
   "name": "python"
  }
 },
 "nbformat": 4,
 "nbformat_minor": 5
}
